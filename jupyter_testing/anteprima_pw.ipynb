{
 "cells": [
  {
   "cell_type": "code",
   "execution_count": 3,
   "id": "aa79fca9-eb51-45ca-a0ef-df92c844a6c1",
   "metadata": {},
   "outputs": [],
   "source": [
    "import matplotlib.pyplot as plt"
   ]
  },
  {
   "cell_type": "code",
   "execution_count": 4,
   "id": "c4588403-e991-4206-b1f5-65e657d05e25",
   "metadata": {},
   "outputs": [],
   "source": [
    "import pandas as pd"
   ]
  },
  {
   "cell_type": "code",
   "execution_count": 2,
   "id": "1ebf0f69-2118-4a0e-a97e-d9533f0d99df",
   "metadata": {},
   "outputs": [
    {
     "ename": "SyntaxError",
     "evalue": "invalid syntax (1167676958.py, line 1)",
     "output_type": "error",
     "traceback": [
      "\u001b[1;36m  Cell \u001b[1;32mIn[2], line 1\u001b[1;36m\u001b[0m\n\u001b[1;33m    file_path = C:\\Users\\edoce\\Desktop\\Studio\\generation_italy_programmi_e_doc\\ProgettiPython\\olistit_pw\\data\\raw\\olistIT_orders_products.csv\u001b[0m\n\u001b[1;37m                 ^\u001b[0m\n\u001b[1;31mSyntaxError\u001b[0m\u001b[1;31m:\u001b[0m invalid syntax\n"
     ]
    }
   ],
   "source": [
    "file_path = C:\\Users\\edoce\\Desktop\\Studio\\generation_italy_programmi_e_doc\\ProgettiPython\\olistit_pw\\data\\raw\\olistIT_orders_products.csv"
   ]
  },
  {
   "cell_type": "code",
   "execution_count": null,
   "id": "1b36c165-f597-4986-ba94-8f3f9b0e61b9",
   "metadata": {},
   "outputs": [],
   "source": []
  }
 ],
 "metadata": {
  "kernelspec": {
   "display_name": "Python 3 (ipykernel)",
   "language": "python",
   "name": "python3"
  },
  "language_info": {
   "codemirror_mode": {
    "name": "ipython",
    "version": 3
   },
   "file_extension": ".py",
   "mimetype": "text/x-python",
   "name": "python",
   "nbconvert_exporter": "python",
   "pygments_lexer": "ipython3",
   "version": "3.13.1"
  }
 },
 "nbformat": 4,
 "nbformat_minor": 5
}
